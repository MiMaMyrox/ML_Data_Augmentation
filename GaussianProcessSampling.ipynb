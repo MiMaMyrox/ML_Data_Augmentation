{
 "cells": [
  {
   "cell_type": "code",
   "execution_count": 12,
   "id": "4c912184",
   "metadata": {},
   "outputs": [],
   "source": [
    "import numpy as np\n",
    "import pandas as pd\n",
    "from sklearn.gaussian_process import GaussianProcessRegressor\n",
    "from sklearn.gaussian_process.kernels import RBF, ConstantKernel as C\n",
    "import matplotlib.pyplot as plt\n",
    "from sklearn.preprocessing import StandardScaler\n",
    "\n",
    "DATA_PATH = \"./data/evaluation/\"\n",
    "\n",
    "# Load dataset\n",
    "df = pd.read_csv(f\"{DATA_PATH}train.csv\")  # 🔁 Replace with your actual file path\n",
    "\n",
    "# Split into features and target\n",
    "X = df.drop(columns=[\"strength\"]).values  # 8 features\n",
    "y = df[\"strength\"].values  # Target\n",
    "\n",
    "# (Optional) Standardize features for better GP performance\n",
    "scaler = StandardScaler()\n",
    "X_scaled = scaler.fit_transform(X)\n",
    "\n",
    "# Define Gaussian Process with RBF kernel\n",
    "kernel = C(1.0, (1e-3, 1e3)) * RBF(length_scale=1.0)\n",
    "gp = GaussianProcessRegressor(kernel=kernel, alpha=1e-2, normalize_y=True)\n",
    "\n",
    "# Fit GP model\n",
    "gp.fit(X_scaled, y)\n",
    "\n",
    "# Generate synthetic samples\n",
    "n_synthetic = 300\n",
    "X_synth_scaled = np.random.normal(loc=0.0, scale=1.0, size=(n_synthetic, X.shape[1]))  # Standard normal in 8D\n",
    "y_mean, y_std = gp.predict(X_synth_scaled, return_std=True)\n",
    "\n",
    "# Sample synthetic outputs from the posterior\n",
    "y_synthetic = y_mean + y_std * np.random.randn(n_synthetic)\n",
    "\n",
    "# Inverse transform features to original scale (optional)\n",
    "X_synth = scaler.inverse_transform(X_synth_scaled)\n",
    "\n",
    "feature_cols = df.drop(columns=[\"strength\"]).columns\n",
    "df_synth = pd.DataFrame(X_synth, columns=feature_cols)\n",
    "df_synth[\"strength\"] = y_synthetic\n",
    "\n",
    "df_combined = pd.concat([df, df_synth], ignore_index=True)\n",
    "df_combined.to_csv(f\"{DATA_PATH}gaussian.csv\", index=False)"
   ]
  }
 ],
 "metadata": {
  "kernelspec": {
   "display_name": ".venv",
   "language": "python",
   "name": "python3"
  },
  "language_info": {
   "codemirror_mode": {
    "name": "ipython",
    "version": 3
   },
   "file_extension": ".py",
   "mimetype": "text/x-python",
   "name": "python",
   "nbconvert_exporter": "python",
   "pygments_lexer": "ipython3",
   "version": "3.13.5"
  }
 },
 "nbformat": 4,
 "nbformat_minor": 5
}
