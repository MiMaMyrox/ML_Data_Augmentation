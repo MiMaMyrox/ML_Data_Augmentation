{
 "cells": [
  {
   "cell_type": "code",
   "execution_count": null,
   "id": "7db2cbd0",
   "metadata": {},
   "outputs": [
    {
     "name": "stderr",
     "output_type": "stream",
     "text": [
      "d:\\Uni\\Semester 6\\ML in der Prozessindustrie\\projekt\\ML_Data_Augmentation\\.venv\\Lib\\site-packages\\tqdm\\auto.py:21: TqdmWarning: IProgress not found. Please update jupyter and ipywidgets. See https://ipywidgets.readthedocs.io/en/stable/user_install.html\n",
      "  from .autonotebook import tqdm as notebook_tqdm\n"
     ]
    }
   ],
   "source": [
    "import pandas as pd\n",
    "import smogn\n",
    "import optuna\n",
    "from src.model import BaseLineModel\n",
    "from sklearn.metrics import mean_squared_error, r2_score\n",
    "import random\n",
    "import numpy as np\n",
    "\n",
    "# For silencing smogn\n",
    "import os\n",
    "from contextlib import redirect_stdout, redirect_stderr"
   ]
  },
  {
   "cell_type": "code",
   "execution_count": 103,
   "id": "bdec8436",
   "metadata": {},
   "outputs": [
    {
     "data": {
      "text/plain": [
       "0.849304522983098"
      ]
     },
     "execution_count": 103,
     "metadata": {},
     "output_type": "execute_result"
    }
   ],
   "source": [
    "base_value = 0\n",
    "\n",
    "df_train = pd.read_csv(f'./data/evaluation/train.csv')\n",
    "X_train = df_train.drop(columns=['strength'])\n",
    "y_train = df_train['strength']\n",
    "df_test = pd.read_csv(f'./data/evaluation/test.csv')\n",
    "X_test = df_test.drop(columns=['strength'])\n",
    "y_test = df_test['strength']\n",
    "\n",
    "model = BaseLineModel(\n",
    "        n_estimators=100, \n",
    "        random_state=76344\n",
    ")\n",
    "\n",
    "model.fit(X_train, y_train)\n",
    "mse = mean_squared_error(y_test, model.predict(X_test))\n",
    "r2 = r2_score(y_test, model.predict(X_test))\n",
    "\n",
    "base_value = r2\n",
    "base_value"
   ]
  },
  {
   "cell_type": "code",
   "execution_count": 59,
   "id": "8da88bf6",
   "metadata": {},
   "outputs": [
    {
     "name": "stderr",
     "output_type": "stream",
     "text": [
      "d:\\Uni\\Semester 6\\ML in der Prozessindustrie\\projekt\\ML_Data_Augmentation\\.venv\\Lib\\site-packages\\optuna\\_experimental.py:32: ExperimentalWarning: Argument ``multivariate`` is an experimental feature. The interface can change in the future.\n",
      "  warnings.warn(\n",
      "d:\\Uni\\Semester 6\\ML in der Prozessindustrie\\projekt\\ML_Data_Augmentation\\.venv\\Lib\\site-packages\\optuna\\_experimental.py:32: ExperimentalWarning: Argument ``group`` is an experimental feature. The interface can change in the future.\n",
      "  warnings.warn(\n",
      "[I 2025-07-02 22:30:56,835] A new study created in memory with name: no-name-d4d9402e-da88-4268-98a1-b889fabaa048\n",
      "[I 2025-07-02 22:30:57,760] Trial 0 finished with value: 0.8454549934290783 and parameters: {'k': 14, 'sample_method': 'balance', 'pertubation': 0.7100000000000001, 'rel threshold': 0.48000000000000004, 'rel_xtrm_type': 'both'}. Best is trial 0 with value: 0.8454549934290783.\n",
      "[I 2025-07-02 22:30:57,764] Trial 1 pruned. ValueError('redefine phi relevance function: all points are 1')\n",
      "[I 2025-07-02 22:30:58,735] Trial 2 finished with value: 0.8661216972062559 and parameters: {'k': 8, 'sample_method': 'balance', 'pertubation': 0.96, 'rel threshold': 0.4, 'rel_xtrm_type': 'high'}. Best is trial 2 with value: 0.8661216972062559.\n",
      "[I 2025-07-02 22:30:58,740] Trial 3 pruned. ValueError('redefine phi relevance function: all points are 1')\n",
      "[I 2025-07-02 22:30:59,485] Trial 4 finished with value: 0.8493663648885117 and parameters: {'k': 18, 'sample_method': 'balance', 'pertubation': 0.46, 'rel threshold': 0.53, 'rel_xtrm_type': 'high'}. Best is trial 2 with value: 0.8661216972062559.\n",
      "[I 2025-07-02 22:30:59,911] Trial 5 pruned. ValueError('oops! synthetic data contains missing values')\n",
      "[I 2025-07-02 22:30:59,916] Trial 6 pruned. ValueError('redefine phi relevance function: all points are 1')\n",
      "[I 2025-07-02 22:31:00,655] Trial 7 finished with value: 0.8575166961127394 and parameters: {'k': 17, 'sample_method': 'balance', 'pertubation': 0.16000000000000003, 'rel threshold': 0.74, 'rel_xtrm_type': 'both'}. Best is trial 2 with value: 0.8661216972062559.\n",
      "[I 2025-07-02 22:31:00,660] Trial 8 pruned. ValueError('redefine phi relevance function: all points are 1')\n",
      "[I 2025-07-02 22:31:01,741] Trial 9 finished with value: 0.8563642051813054 and parameters: {'k': 4, 'sample_method': 'balance', 'pertubation': 0.81, 'rel threshold': 0.28, 'rel_xtrm_type': 'both'}. Best is trial 2 with value: 0.8661216972062559.\n",
      "[I 2025-07-02 22:31:02,272] Trial 10 finished with value: 0.831379034005895 and parameters: {'k': 9, 'sample_method': 'balance', 'pertubation': 0.91, 'rel threshold': 0.85, 'rel_xtrm_type': 'high'}. Best is trial 2 with value: 0.8661216972062559.\n",
      "[I 2025-07-02 22:31:02,819] Trial 11 finished with value: 0.8329365883392278 and parameters: {'k': 16, 'sample_method': 'balance', 'pertubation': 0.26, 'rel threshold': 0.91, 'rel_xtrm_type': 'both'}. Best is trial 2 with value: 0.8661216972062559.\n",
      "[I 2025-07-02 22:31:05,247] Trial 12 finished with value: 0.8518023933298442 and parameters: {'k': 12, 'sample_method': 'balance', 'pertubation': 0.96, 'rel threshold': 0.060000000000000005, 'rel_xtrm_type': 'high'}. Best is trial 2 with value: 0.8661216972062559.\n",
      "[I 2025-07-02 22:31:06,372] Trial 13 finished with value: 0.8504130265483671 and parameters: {'k': 6, 'sample_method': 'extreme', 'pertubation': 0.96, 'rel threshold': 0.39, 'rel_xtrm_type': 'high'}. Best is trial 2 with value: 0.8661216972062559.\n",
      "[I 2025-07-02 22:31:07,191] Trial 14 finished with value: 0.8230577324803545 and parameters: {'k': 6, 'sample_method': 'balance', 'pertubation': 0.8600000000000001, 'rel threshold': 0.48000000000000004, 'rel_xtrm_type': 'high'}. Best is trial 2 with value: 0.8661216972062559.\n",
      "[I 2025-07-02 22:31:08,052] Trial 15 finished with value: 0.852694373502678 and parameters: {'k': 14, 'sample_method': 'balance', 'pertubation': 0.11, 'rel threshold': 0.4, 'rel_xtrm_type': 'both'}. Best is trial 2 with value: 0.8661216972062559.\n",
      "[I 2025-07-02 22:31:08,510] Trial 16 finished with value: 0.8306452269801334 and parameters: {'k': 2, 'sample_method': 'balance', 'pertubation': 0.16000000000000003, 'rel threshold': 0.87, 'rel_xtrm_type': 'both'}. Best is trial 2 with value: 0.8661216972062559.\n",
      "[I 2025-07-02 22:31:09,343] Trial 17 finished with value: 0.8593336784422414 and parameters: {'k': 20, 'sample_method': 'extreme', 'pertubation': 0.16000000000000003, 'rel threshold': 0.86, 'rel_xtrm_type': 'both'}. Best is trial 2 with value: 0.8661216972062559.\n",
      "[I 2025-07-02 22:31:10,192] Trial 18 finished with value: 0.8338572495474443 and parameters: {'k': 20, 'sample_method': 'extreme', 'pertubation': 0.36000000000000004, 'rel threshold': 0.77, 'rel_xtrm_type': 'both'}. Best is trial 2 with value: 0.8661216972062559.\n",
      "[I 2025-07-02 22:31:11,619] Trial 19 finished with value: 0.8601949771749601 and parameters: {'k': 7, 'sample_method': 'balance', 'pertubation': 0.36000000000000004, 'rel threshold': 0.16, 'rel_xtrm_type': 'high'}. Best is trial 2 with value: 0.8661216972062559.\n",
      "[I 2025-07-02 22:31:13,057] Trial 20 finished with value: 0.8639373696713839 and parameters: {'k': 6, 'sample_method': 'balance', 'pertubation': 0.31000000000000005, 'rel threshold': 0.16, 'rel_xtrm_type': 'high'}. Best is trial 2 with value: 0.8661216972062559.\n",
      "[I 2025-07-02 22:31:14,865] Trial 21 finished with value: 0.8442849827532612 and parameters: {'k': 7, 'sample_method': 'balance', 'pertubation': 0.36000000000000004, 'rel threshold': 0.11, 'rel_xtrm_type': 'high'}. Best is trial 2 with value: 0.8661216972062559.\n",
      "[I 2025-07-02 22:31:15,588] Trial 22 finished with value: 0.8408309252384342 and parameters: {'k': 6, 'sample_method': 'balance', 'pertubation': 0.16000000000000003, 'rel threshold': 0.49, 'rel_xtrm_type': 'high'}. Best is trial 2 with value: 0.8661216972062559.\n",
      "[I 2025-07-02 22:31:17,081] Trial 23 finished with value: 0.8483960815440985 and parameters: {'k': 2, 'sample_method': 'extreme', 'pertubation': 0.46, 'rel threshold': 0.19, 'rel_xtrm_type': 'high'}. Best is trial 2 with value: 0.8661216972062559.\n",
      "[I 2025-07-02 22:31:20,138] Trial 24 pruned. ValueError('oops! synthetic data contains missing values')\n",
      "[I 2025-07-02 22:31:21,060] Trial 25 finished with value: 0.8543936608863661 and parameters: {'k': 3, 'sample_method': 'balance', 'pertubation': 0.36000000000000004, 'rel threshold': 0.37, 'rel_xtrm_type': 'both'}. Best is trial 2 with value: 0.8661216972062559.\n",
      "[I 2025-07-02 22:31:21,075] Trial 26 pruned. ValueError('redefine phi relevance function: all points are 1')\n",
      "[I 2025-07-02 22:31:22,127] Trial 27 finished with value: 0.8567101414068061 and parameters: {'k': 11, 'sample_method': 'balance', 'pertubation': 0.36000000000000004, 'rel threshold': 0.29000000000000004, 'rel_xtrm_type': 'high'}. Best is trial 2 with value: 0.8661216972062559.\n",
      "[I 2025-07-02 22:31:23,737] Trial 28 finished with value: 0.8586666441404616 and parameters: {'k': 3, 'sample_method': 'balance', 'pertubation': 0.91, 'rel threshold': 0.13, 'rel_xtrm_type': 'high'}. Best is trial 2 with value: 0.8661216972062559.\n",
      "[I 2025-07-02 22:31:26,281] Trial 29 finished with value: 0.8449716545302608 and parameters: {'k': 10, 'sample_method': 'extreme', 'pertubation': 0.31000000000000005, 'rel threshold': 0.05, 'rel_xtrm_type': 'high'}. Best is trial 2 with value: 0.8661216972062559.\n",
      "[I 2025-07-02 22:31:27,134] Trial 30 finished with value: 0.856134919467448 and parameters: {'k': 16, 'sample_method': 'balance', 'pertubation': 0.91, 'rel threshold': 0.45, 'rel_xtrm_type': 'high'}. Best is trial 2 with value: 0.8661216972062559.\n",
      "[I 2025-07-02 22:31:28,016] Trial 31 finished with value: 0.8455731868798863 and parameters: {'k': 19, 'sample_method': 'extreme', 'pertubation': 0.060000000000000005, 'rel threshold': 0.86, 'rel_xtrm_type': 'both'}. Best is trial 2 with value: 0.8661216972062559.\n",
      "[I 2025-07-02 22:31:31,866] Trial 32 finished with value: 0.840835381655084 and parameters: {'k': 5, 'sample_method': 'balance', 'pertubation': 0.31000000000000005, 'rel threshold': 0.01, 'rel_xtrm_type': 'both'}. Best is trial 2 with value: 0.8661216972062559.\n",
      "[I 2025-07-02 22:31:32,801] Trial 33 finished with value: 0.8609956606138273 and parameters: {'k': 10, 'sample_method': 'balance', 'pertubation': 0.81, 'rel threshold': 0.35000000000000003, 'rel_xtrm_type': 'high'}. Best is trial 2 with value: 0.8661216972062559.\n",
      "[I 2025-07-02 22:31:33,567] Trial 34 finished with value: 0.8465035037791973 and parameters: {'k': 12, 'sample_method': 'balance', 'pertubation': 0.96, 'rel threshold': 0.48000000000000004, 'rel_xtrm_type': 'high'}. Best is trial 2 with value: 0.8661216972062559.\n",
      "[I 2025-07-02 22:31:34,354] Trial 35 finished with value: 0.8526980694056536 and parameters: {'k': 9, 'sample_method': 'balance', 'pertubation': 0.96, 'rel threshold': 0.45, 'rel_xtrm_type': 'both'}. Best is trial 2 with value: 0.8661216972062559.\n",
      "[I 2025-07-02 22:31:35,426] Trial 36 finished with value: 0.8443115675166714 and parameters: {'k': 10, 'sample_method': 'extreme', 'pertubation': 0.66, 'rel threshold': 0.39, 'rel_xtrm_type': 'high'}. Best is trial 2 with value: 0.8661216972062559.\n",
      "[I 2025-07-02 22:31:36,338] Trial 37 finished with value: 0.8594327029544582 and parameters: {'k': 9, 'sample_method': 'balance', 'pertubation': 0.76, 'rel threshold': 0.37, 'rel_xtrm_type': 'high'}. Best is trial 2 with value: 0.8661216972062559.\n",
      "[I 2025-07-02 22:31:37,391] Trial 38 finished with value: 0.8477553744706832 and parameters: {'k': 4, 'sample_method': 'balance', 'pertubation': 0.56, 'rel threshold': 0.27, 'rel_xtrm_type': 'high'}. Best is trial 2 with value: 0.8661216972062559.\n",
      "[I 2025-07-02 22:31:38,500] Trial 39 finished with value: 0.8539885568328938 and parameters: {'k': 8, 'sample_method': 'extreme', 'pertubation': 0.21000000000000002, 'rel threshold': 0.33, 'rel_xtrm_type': 'both'}. Best is trial 2 with value: 0.8661216972062559.\n",
      "[I 2025-07-02 22:31:38,515] Trial 40 pruned. ValueError('redefine phi relevance function: all points are 1')\n",
      "[I 2025-07-02 22:31:39,431] Trial 41 finished with value: 0.840211159806746 and parameters: {'k': 11, 'sample_method': 'balance', 'pertubation': 0.7100000000000001, 'rel threshold': 0.38, 'rel_xtrm_type': 'high'}. Best is trial 2 with value: 0.8661216972062559.\n",
      "[I 2025-07-02 22:31:39,451] Trial 42 pruned. ValueError('redefine phi relevance function: all points are 1')\n",
      "[I 2025-07-02 22:31:40,403] Trial 43 finished with value: 0.8556385899058778 and parameters: {'k': 8, 'sample_method': 'balance', 'pertubation': 0.91, 'rel threshold': 0.33, 'rel_xtrm_type': 'high'}. Best is trial 2 with value: 0.8661216972062559.\n",
      "[I 2025-07-02 22:31:40,417] Trial 44 pruned. ValueError('redefine phi relevance function: all points are 1')\n",
      "[I 2025-07-02 22:31:40,432] Trial 45 pruned. ValueError('redefine phi relevance function: all points are 1')\n",
      "[I 2025-07-02 22:31:40,448] Trial 46 pruned. ValueError('redefine phi relevance function: all points are 1')\n",
      "[I 2025-07-02 22:31:41,530] Trial 47 finished with value: 0.844224641741651 and parameters: {'k': 9, 'sample_method': 'extreme', 'pertubation': 0.66, 'rel threshold': 0.34, 'rel_xtrm_type': 'both'}. Best is trial 2 with value: 0.8661216972062559.\n",
      "[I 2025-07-02 22:31:42,749] Trial 48 finished with value: 0.8675231759956364 and parameters: {'k': 7, 'sample_method': 'balance', 'pertubation': 0.21000000000000002, 'rel threshold': 0.2, 'rel_xtrm_type': 'high'}. Best is trial 48 with value: 0.8675231759956364.\n",
      "[I 2025-07-02 22:31:43,956] Trial 49 finished with value: 0.8651105894284877 and parameters: {'k': 11, 'sample_method': 'balance', 'pertubation': 0.56, 'rel threshold': 0.21000000000000002, 'rel_xtrm_type': 'both'}. Best is trial 48 with value: 0.8675231759956364.\n",
      "[I 2025-07-02 22:31:45,374] Trial 50 finished with value: 0.8574492872868655 and parameters: {'k': 15, 'sample_method': 'balance', 'pertubation': 0.41000000000000003, 'rel threshold': 0.15000000000000002, 'rel_xtrm_type': 'both'}. Best is trial 48 with value: 0.8675231759956364.\n",
      "[I 2025-07-02 22:31:46,296] Trial 51 finished with value: 0.843774308884335 and parameters: {'k': 11, 'sample_method': 'balance', 'pertubation': 0.56, 'rel threshold': 0.35000000000000003, 'rel_xtrm_type': 'both'}. Best is trial 48 with value: 0.8675231759956364.\n",
      "[I 2025-07-02 22:31:47,688] Trial 52 finished with value: 0.8639171347696633 and parameters: {'k': 10, 'sample_method': 'balance', 'pertubation': 0.16000000000000003, 'rel threshold': 0.16, 'rel_xtrm_type': 'high'}. Best is trial 48 with value: 0.8675231759956364.\n",
      "[I 2025-07-02 22:31:51,212] Trial 53 finished with value: 0.8357954387992447 and parameters: {'k': 11, 'sample_method': 'balance', 'pertubation': 0.060000000000000005, 'rel threshold': 0.01, 'rel_xtrm_type': 'high'}. Best is trial 48 with value: 0.8675231759956364.\n",
      "[I 2025-07-02 22:31:52,212] Trial 54 finished with value: 0.8500492614646314 and parameters: {'k': 12, 'sample_method': 'balance', 'pertubation': 0.11, 'rel threshold': 0.3, 'rel_xtrm_type': 'high'}. Best is trial 48 with value: 0.8675231759956364.\n",
      "[I 2025-07-02 22:31:52,227] Trial 55 pruned. ValueError('redefine phi relevance function: all points are 1')\n",
      "[I 2025-07-02 22:31:52,242] Trial 56 pruned. ValueError('redefine phi relevance function: all points are 1')\n",
      "[I 2025-07-02 22:31:53,197] Trial 57 finished with value: 0.8576367482026924 and parameters: {'k': 2, 'sample_method': 'balance', 'pertubation': 0.31000000000000005, 'rel threshold': 0.3, 'rel_xtrm_type': 'high'}. Best is trial 48 with value: 0.8675231759956364.\n",
      "[I 2025-07-02 22:31:54,560] Trial 58 finished with value: 0.8721585351011046 and parameters: {'k': 7, 'sample_method': 'balance', 'pertubation': 0.66, 'rel threshold': 0.17, 'rel_xtrm_type': 'both'}. Best is trial 58 with value: 0.8721585351011046.\n",
      "[I 2025-07-02 22:31:55,768] Trial 59 finished with value: 0.8540284974241891 and parameters: {'k': 9, 'sample_method': 'balance', 'pertubation': 0.66, 'rel threshold': 0.21000000000000002, 'rel_xtrm_type': 'both'}. Best is trial 58 with value: 0.8721585351011046.\n",
      "[I 2025-07-02 22:31:55,783] Trial 60 pruned. ValueError('redefine phi relevance function: all points are 1')\n",
      "[I 2025-07-02 22:31:55,799] Trial 61 pruned. ValueError('redefine phi relevance function: all points are 1')\n",
      "[I 2025-07-02 22:31:57,896] Trial 62 finished with value: 0.8553378989419502 and parameters: {'k': 9, 'sample_method': 'balance', 'pertubation': 0.56, 'rel threshold': 0.06999999999999999, 'rel_xtrm_type': 'both'}. Best is trial 58 with value: 0.8721585351011046.\n",
      "[I 2025-07-02 22:31:58,959] Trial 63 finished with value: 0.861990366059483 and parameters: {'k': 8, 'sample_method': 'balance', 'pertubation': 0.21000000000000002, 'rel threshold': 0.27, 'rel_xtrm_type': 'high'}. Best is trial 58 with value: 0.8721585351011046.\n",
      "[I 2025-07-02 22:32:00,070] Trial 64 finished with value: 0.86452292478159 and parameters: {'k': 8, 'sample_method': 'balance', 'pertubation': 0.21000000000000002, 'rel threshold': 0.26, 'rel_xtrm_type': 'high'}. Best is trial 58 with value: 0.8721585351011046.\n",
      "[I 2025-07-02 22:32:00,979] Trial 65 finished with value: 0.8499110228744955 and parameters: {'k': 8, 'sample_method': 'balance', 'pertubation': 0.01, 'rel threshold': 0.35000000000000003, 'rel_xtrm_type': 'high'}. Best is trial 58 with value: 0.8721585351011046.\n",
      "[I 2025-07-02 22:32:04,774] Trial 66 finished with value: 0.840835381655084 and parameters: {'k': 5, 'sample_method': 'balance', 'pertubation': 0.76, 'rel threshold': 0.01, 'rel_xtrm_type': 'both'}. Best is trial 58 with value: 0.8721585351011046.\n",
      "[I 2025-07-02 22:32:07,995] Trial 67 finished with value: 0.8613010414273072 and parameters: {'k': 10, 'sample_method': 'balance', 'pertubation': 0.56, 'rel threshold': 0.02, 'rel_xtrm_type': 'high'}. Best is trial 58 with value: 0.8721585351011046.\n",
      "[I 2025-07-02 22:32:11,526] Trial 68 finished with value: 0.840835381655084 and parameters: {'k': 5, 'sample_method': 'balance', 'pertubation': 0.31000000000000005, 'rel threshold': 0.01, 'rel_xtrm_type': 'high'}. Best is trial 58 with value: 0.8721585351011046.\n",
      "[I 2025-07-02 22:32:11,542] Trial 69 pruned. ValueError('redefine phi relevance function: all points are 1')\n",
      "[I 2025-07-02 22:32:11,559] Trial 70 pruned. ValueError('redefine phi relevance function: all points are 1')\n",
      "[I 2025-07-02 22:32:12,925] Trial 71 finished with value: 0.8542305673970554 and parameters: {'k': 9, 'sample_method': 'balance', 'pertubation': 0.31000000000000005, 'rel threshold': 0.17, 'rel_xtrm_type': 'high'}. Best is trial 58 with value: 0.8721585351011046.\n",
      "[I 2025-07-02 22:32:14,139] Trial 72 finished with value: 0.8554748072672821 and parameters: {'k': 7, 'sample_method': 'balance', 'pertubation': 0.11, 'rel threshold': 0.21000000000000002, 'rel_xtrm_type': 'high'}. Best is trial 58 with value: 0.8721585351011046.\n",
      "[I 2025-07-02 22:32:15,530] Trial 73 finished with value: 0.8625989503978942 and parameters: {'k': 19, 'sample_method': 'extreme', 'pertubation': 0.36000000000000004, 'rel threshold': 0.2, 'rel_xtrm_type': 'high'}. Best is trial 58 with value: 0.8721585351011046.\n",
      "[I 2025-07-02 22:32:18,038] Trial 74 finished with value: 0.8655146279000037 and parameters: {'k': 19, 'sample_method': 'extreme', 'pertubation': 0.41000000000000003, 'rel threshold': 0.05, 'rel_xtrm_type': 'high'}. Best is trial 58 with value: 0.8721585351011046.\n",
      "[I 2025-07-02 22:32:19,793] Trial 75 finished with value: 0.8517183670517461 and parameters: {'k': 19, 'sample_method': 'extreme', 'pertubation': 0.56, 'rel threshold': 0.13, 'rel_xtrm_type': 'both'}. Best is trial 58 with value: 0.8721585351011046.\n",
      "[I 2025-07-02 22:32:21,447] Trial 76 finished with value: 0.863671735746367 and parameters: {'k': 8, 'sample_method': 'extreme', 'pertubation': 0.01, 'rel threshold': 0.14, 'rel_xtrm_type': 'high'}. Best is trial 58 with value: 0.8721585351011046.\n",
      "[I 2025-07-02 22:32:23,605] Trial 77 finished with value: 0.8491420741615066 and parameters: {'k': 18, 'sample_method': 'extreme', 'pertubation': 0.76, 'rel threshold': 0.08, 'rel_xtrm_type': 'high'}. Best is trial 58 with value: 0.8721585351011046.\n",
      "[I 2025-07-02 22:32:24,315] Trial 78 finished with value: 0.8546891719761366 and parameters: {'k': 5, 'sample_method': 'balance', 'pertubation': 0.91, 'rel threshold': 0.56, 'rel_xtrm_type': 'high'}. Best is trial 58 with value: 0.8721585351011046.\n",
      "[I 2025-07-02 22:32:27,463] Trial 79 finished with value: 0.8415435121759252 and parameters: {'k': 18, 'sample_method': 'balance', 'pertubation': 0.36000000000000004, 'rel threshold': 0.03, 'rel_xtrm_type': 'high'}. Best is trial 58 with value: 0.8721585351011046.\n",
      "[I 2025-07-02 22:32:27,481] Trial 80 pruned. ValueError('redefine phi relevance function: all points are 1')\n",
      "[I 2025-07-02 22:32:28,457] Trial 81 finished with value: 0.8398847829923228 and parameters: {'k': 7, 'sample_method': 'extreme', 'pertubation': 0.26, 'rel threshold': 0.47000000000000003, 'rel_xtrm_type': 'high'}. Best is trial 58 with value: 0.8721585351011046.\n",
      "[I 2025-07-02 22:32:29,558] Trial 82 finished with value: 0.8444382009751727 and parameters: {'k': 10, 'sample_method': 'extreme', 'pertubation': 0.060000000000000005, 'rel threshold': 0.34, 'rel_xtrm_type': 'high'}. Best is trial 58 with value: 0.8721585351011046.\n",
      "[I 2025-07-02 22:32:31,727] Trial 83 finished with value: 0.8429510967094613 and parameters: {'k': 7, 'sample_method': 'extreme', 'pertubation': 0.01, 'rel threshold': 0.09, 'rel_xtrm_type': 'high'}. Best is trial 58 with value: 0.8721585351011046.\n",
      "[I 2025-07-02 22:32:31,744] Trial 84 pruned. ValueError('redefine phi relevance function: all points are 1')\n",
      "[I 2025-07-02 22:32:33,957] Trial 85 finished with value: 0.8465925931401626 and parameters: {'k': 13, 'sample_method': 'balance', 'pertubation': 0.96, 'rel threshold': 0.09, 'rel_xtrm_type': 'both'}. Best is trial 58 with value: 0.8721585351011046.\n",
      "[I 2025-07-02 22:32:34,614] Trial 86 finished with value: 0.8503506445945597 and parameters: {'k': 10, 'sample_method': 'balance', 'pertubation': 0.060000000000000005, 'rel threshold': 0.98, 'rel_xtrm_type': 'high'}. Best is trial 58 with value: 0.8721585351011046.\n",
      "[I 2025-07-02 22:32:36,808] Trial 87 finished with value: 0.8583776519848161 and parameters: {'k': 14, 'sample_method': 'extreme', 'pertubation': 0.26, 'rel threshold': 0.09999999999999999, 'rel_xtrm_type': 'high'}. Best is trial 58 with value: 0.8721585351011046.\n",
      "[I 2025-07-02 22:32:38,030] Trial 88 finished with value: 0.860745940951001 and parameters: {'k': 7, 'sample_method': 'balance', 'pertubation': 0.16000000000000003, 'rel threshold': 0.23, 'rel_xtrm_type': 'both'}. Best is trial 58 with value: 0.8721585351011046.\n",
      "[I 2025-07-02 22:32:40,361] Trial 89 finished with value: 0.8617520734810992 and parameters: {'k': 17, 'sample_method': 'extreme', 'pertubation': 0.51, 'rel threshold': 0.09, 'rel_xtrm_type': 'high'}. Best is trial 58 with value: 0.8721585351011046.\n",
      "[I 2025-07-02 22:32:42,328] Trial 90 finished with value: 0.8579602926745135 and parameters: {'k': 19, 'sample_method': 'extreme', 'pertubation': 0.11, 'rel threshold': 0.09999999999999999, 'rel_xtrm_type': 'high'}. Best is trial 58 with value: 0.8721585351011046.\n",
      "[I 2025-07-02 22:32:43,527] Trial 91 finished with value: 0.8407406031526966 and parameters: {'k': 19, 'sample_method': 'extreme', 'pertubation': 0.46, 'rel threshold': 0.38, 'rel_xtrm_type': 'high'}. Best is trial 58 with value: 0.8721585351011046.\n",
      "[I 2025-07-02 22:32:43,546] Trial 92 pruned. ValueError('redefine phi relevance function: all points are 1')\n",
      "[I 2025-07-02 22:32:45,455] Trial 93 finished with value: 0.871737258873145 and parameters: {'k': 20, 'sample_method': 'extreme', 'pertubation': 0.51, 'rel threshold': 0.17, 'rel_xtrm_type': 'high'}. Best is trial 58 with value: 0.8721585351011046.\n",
      "[I 2025-07-02 22:32:45,477] Trial 94 pruned. ValueError('redefine phi relevance function: all points are 1')\n",
      "[I 2025-07-02 22:32:48,092] Trial 95 finished with value: 0.8415599391353209 and parameters: {'k': 20, 'sample_method': 'extreme', 'pertubation': 0.46, 'rel threshold': 0.05, 'rel_xtrm_type': 'high'}. Best is trial 58 with value: 0.8721585351011046.\n",
      "[I 2025-07-02 22:32:48,111] Trial 96 pruned. ValueError('redefine phi relevance function: all points are 1')\n",
      "[I 2025-07-02 22:32:49,473] Trial 97 finished with value: 0.8488263288176727 and parameters: {'k': 7, 'sample_method': 'balance', 'pertubation': 0.51, 'rel threshold': 0.26, 'rel_xtrm_type': 'both'}. Best is trial 58 with value: 0.8721585351011046.\n",
      "[I 2025-07-02 22:32:51,074] Trial 98 finished with value: 0.8531372144449025 and parameters: {'k': 20, 'sample_method': 'extreme', 'pertubation': 0.56, 'rel threshold': 0.18000000000000002, 'rel_xtrm_type': 'high'}. Best is trial 58 with value: 0.8721585351011046.\n",
      "[I 2025-07-02 22:32:54,517] Trial 99 finished with value: 0.8552515441281238 and parameters: {'k': 18, 'sample_method': 'extreme', 'pertubation': 0.31000000000000005, 'rel threshold': 0.02, 'rel_xtrm_type': 'both'}. Best is trial 58 with value: 0.8721585351011046.\n"
     ]
    },
    {
     "name": "stdout",
     "output_type": "stream",
     "text": [
      "{'k': 7, 'sample_method': 'balance', 'pertubation': 0.66, 'rel threshold': 0.17, 'rel_xtrm_type': 'both'}\n"
     ]
    },
    {
     "ename": "NameError",
     "evalue": "name 'base_value' is not defined",
     "output_type": "error",
     "traceback": [
      "\u001b[31m---------------------------------------------------------------------------\u001b[39m",
      "\u001b[31mNameError\u001b[39m                                 Traceback (most recent call last)",
      "\u001b[36mCell\u001b[39m\u001b[36m \u001b[39m\u001b[32mIn[59]\u001b[39m\u001b[32m, line 51\u001b[39m\n\u001b[32m     48\u001b[39m study.optimize(objective, n_trials=\u001b[32m100\u001b[39m)\n\u001b[32m     50\u001b[39m \u001b[38;5;28mprint\u001b[39m(study.best_params)\n\u001b[32m---> \u001b[39m\u001b[32m51\u001b[39m \u001b[38;5;28mprint\u001b[39m(study.best_value, \u001b[43mbase_value\u001b[49m, \u001b[33mf\u001b[39m\u001b[33m\"\u001b[39m\u001b[33mimprovement: \u001b[39m\u001b[38;5;132;01m{\u001b[39;00m\u001b[38;5;28mround\u001b[39m(study.best_value\u001b[38;5;250m \u001b[39m-\u001b[38;5;250m \u001b[39mbase_value,\u001b[38;5;250m \u001b[39m\u001b[32m4\u001b[39m)\u001b[38;5;132;01m}\u001b[39;00m\u001b[33m\"\u001b[39m)\n",
      "\u001b[31mNameError\u001b[39m: name 'base_value' is not defined"
     ]
    }
   ],
   "source": [
    "# # %pip install optuna-integration[botorch]\n",
    "df_train = pd.read_csv(f'./data/evaluation/train.csv')\n",
    "df_test = pd.read_csv(f'./data/evaluation/test.csv')\n",
    "X_test = df_test.drop(columns=['strength'])\n",
    "y_test = df_test['strength']\n",
    "\n",
    "def objective(trial):\n",
    "\n",
    "    model = BaseLineModel(\n",
    "        n_estimators=100, \n",
    "        random_state=76344\n",
    "    )\n",
    "\n",
    "    # this just reduces random spread but does not eliminate it completely (+-~ 0.03)\n",
    "    random.seed(76344)\n",
    "    np.random.seed(76344)\n",
    "\n",
    "    try:\n",
    "        with open(os.devnull, 'w') as fnull, redirect_stdout(fnull), redirect_stderr(fnull):\n",
    "            augmentation = smogn.smoter(\n",
    "                data=df_train,\n",
    "                y=\"strength\",\n",
    "                k=trial.suggest_int('k', 2, 20),\n",
    "                samp_method=trial.suggest_categorical('sample_method', ['balance', 'extreme']),\n",
    "                pert=trial.suggest_float('pertubation', 0.01, 0.99, step=0.05),\n",
    "                drop_na_row=True,\n",
    "\n",
    "\n",
    "                # phi\n",
    "                rel_thres=trial.suggest_float('rel threshold', 0.01, 0.99, step=0.01),\n",
    "                rel_xtrm_type=trial.suggest_categorical('rel_xtrm_type', ['low', 'both', 'high']),\n",
    "                # rel_coef =trial.suggest_float('rel_coef', 0.5, 2.25)\n",
    "            )\n",
    "    except ValueError as e:\n",
    "        raise optuna.exceptions.TrialPruned(repr(e))\n",
    "\n",
    "    augmented_data = pd.concat([augmentation, df_train])\n",
    "    X_train = augmented_data.drop(columns=['strength'])\n",
    "    y_train = augmented_data['strength']\n",
    "    model.fit(X_train, y_train)\n",
    "    mse = mean_squared_error(y_test, model.predict(X_test))\n",
    "    r2 = r2_score(y_test, model.predict(X_test))\n",
    "    return r2\n",
    "\n",
    "sampler = optuna.samplers.TPESampler(multivariate=True, group=True, n_startup_trials=10)\n",
    "study = optuna.create_study(sampler=sampler, direction='maximize')\n",
    "# study = optuna.create_study(direction='maximize')\n",
    "study.optimize(objective, n_trials=100)\n",
    "\n",
    "print(study.best_params)\n",
    "print(study.best_value, base_value, f\"improvement: {round(study.best_value - base_value, 4)}\")"
   ]
  },
  {
   "cell_type": "code",
   "execution_count": null,
   "id": "db64904a",
   "metadata": {},
   "outputs": [],
   "source": [
    "\"\"\"\n",
    "{'k': 9, 'sample_method': 'extreme', 'pertubation': 0.6100000000000001, 'rel threshold': 0.18000000000000002, 'rel_xtrm_type': 'high'}\n",
    "0.8800102826290365 0.849304522983098 improvement: 0.0307\n",
    "\n",
    "{'k': 9, 'sample_method': 'balance', 'pertubation': 0.26, 'rel threshold': 0.18000000000000002, 'rel_xtrm_type': 'high'}\n",
    "\n",
    "{'k': 7, 'sample_method': 'balance', 'pertubation': 0.66, 'rel threshold': 0.17, 'rel_xtrm_type': 'both'}\n",
    "\"\"\""
   ]
  },
  {
   "cell_type": "code",
   "execution_count": 68,
   "id": "d017d576",
   "metadata": {},
   "outputs": [
    {
     "name": "stderr",
     "output_type": "stream",
     "text": [
      "r_index: 100%|##########| 5/5 [00:00<00:00, 1167.42it/s]\n"
     ]
    },
    {
     "data": {
      "text/plain": [
       "0.870323340429269"
      ]
     },
     "execution_count": 68,
     "metadata": {},
     "output_type": "execute_result"
    }
   ],
   "source": [
    "import pandas as pd\n",
    "import smogn\n",
    "from src.model import BaseLineModel\n",
    "\n",
    "model = BaseLineModel(\n",
    "        n_estimators=100, \n",
    "        random_state=76344\n",
    "    )\n",
    "\n",
    "df = pd.read_csv(\"./data/evaluation/train.csv\")\n",
    "\n",
    "import random\n",
    "import numpy as np\n",
    "\n",
    "random.seed(76344)\n",
    "np.random.seed(76344)\n",
    "augmentation = smogn.smoter(\n",
    "    data=df,\n",
    "    y=\"strength\",\n",
    "    k=9,\n",
    "    samp_method=\"balance\",\n",
    "    pert=0.26,\n",
    "    drop_na_row=True,\n",
    "    # phi\n",
    "    rel_thres=0.18,\n",
    "    rel_xtrm_type=\"high\"\n",
    ")\n",
    "\n",
    "augmented_data = pd.concat([augmentation, df_train])\n",
    "augmented_data.to_csv(\"./data/evaluation/smogn.csv\", index=False)\n",
    "\n",
    "# augmented_data = pd.read_csv(\"\")\n",
    "\n",
    "X_train = augmented_data.drop(columns=['strength'])\n",
    "y_train = augmented_data['strength']\n",
    "model.fit(X_train, y_train)\n",
    "mse = mean_squared_error(y_test, model.predict(X_test))\n",
    "r2 = r2_score(y_test, model.predict(X_test))\n",
    "r2"
   ]
  }
 ],
 "metadata": {
  "kernelspec": {
   "display_name": ".venv",
   "language": "python",
   "name": "python3"
  },
  "language_info": {
   "codemirror_mode": {
    "name": "ipython",
    "version": 3
   },
   "file_extension": ".py",
   "mimetype": "text/x-python",
   "name": "python",
   "nbconvert_exporter": "python",
   "pygments_lexer": "ipython3",
   "version": "3.13.5"
  }
 },
 "nbformat": 4,
 "nbformat_minor": 5
}
