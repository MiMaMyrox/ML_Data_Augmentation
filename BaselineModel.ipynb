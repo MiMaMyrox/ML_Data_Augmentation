{
 "cells": [
  {
   "cell_type": "code",
   "execution_count": 21,
   "id": "4e187ee1",
   "metadata": {},
   "outputs": [],
   "source": [
    "import pandas as pd\n",
    "import matplotlib.pyplot as plt\n",
    "import numpy as np\n",
    "\n",
    "from sklearn.model_selection import train_test_split\n",
    "from sklearn.ensemble import RandomForestRegressor\n",
    "from sklearn.metrics import mean_squared_error, r2_score\n",
    "from sklearn.preprocessing import MinMaxScaler"
   ]
  },
  {
   "cell_type": "code",
   "execution_count": 22,
   "id": "51ba6dd0",
   "metadata": {},
   "outputs": [],
   "source": [
    "# Daten laden und aufteilen\n",
    "data = pd.read_csv('data/concrete.csv')\n",
    "sample = data.sample(n=500, random_state=76344) # Vorheriger Datensatz war zu gut, daher nehmen wir nur 500 Zeilen um DataAugmentation testen zu können\n",
    "\n",
    "df_train, df_test = train_test_split(sample, test_size=0.2, random_state=42)\n",
    "\n",
    "df_train.to_csv('data/train.csv', index=False)\n",
    "df_test.to_csv('data/test.csv', index=False)"
   ]
  },
  {
   "cell_type": "code",
   "execution_count": 23,
   "id": "4fde4bde",
   "metadata": {},
   "outputs": [],
   "source": [
    "df_train = pd.read_csv('data/train.csv') # Wenn man Augemented Daten verwendet kann man das hier reinladen\n",
    "df_test = pd.read_csv('data/test.csv')\n",
    "\n",
    "X_train = df_train.drop(columns=['strength'])\n",
    "y_train = df_train['strength']\n",
    "\n",
    "X_test = df_test.drop(columns=['strength'])\n",
    "y_test = df_test['strength']"
   ]
  },
  {
   "cell_type": "code",
   "execution_count": 24,
   "id": "791ba485",
   "metadata": {},
   "outputs": [
    {
     "name": "stdout",
     "output_type": "stream",
     "text": [
      "MSE: 35.24971882022223\n",
      "R²: 0.849304522983098\n"
     ]
    }
   ],
   "source": [
    "scaler = MinMaxScaler()\n",
    "X_train_scaled = scaler.fit_transform(X_train)\n",
    "X_test_scaled = scaler.transform(X_test)\n",
    "\n",
    "model = RandomForestRegressor(n_estimators=100, random_state=76344)\n",
    "model.fit(X_train_scaled, y_train)\n",
    "\n",
    "y_pred = model.predict(X_test_scaled)\n",
    "print(\"MSE:\", mean_squared_error(y_test, y_pred))\n",
    "print(\"R²:\", r2_score(y_test, y_pred))"
   ]
  },
  {
   "cell_type": "code",
   "execution_count": 25,
   "id": "40940ec3",
   "metadata": {},
   "outputs": [
    {
     "data": {
      "image/png": "[encoded data removed]",
      "text/plain": [
       "<Figure size 1000x600 with 1 Axes>"
      ]
     },
     "metadata": {},
     "output_type": "display_data"
    }
   ],
   "source": [
    "errors = y_test - y_pred\n",
    "\n",
    "plt.figure(figsize=(10, 6))\n",
    "plt.hist(errors, bins=30, alpha=0.7, color='blue')\n",
    "plt.title('Error Distribution')\n",
    "plt.xlabel('Error')\n",
    "plt.ylabel('Frequency')\n",
    "plt.grid()\n",
    "plt.show()"
   ]
  },
  {
   "cell_type": "code",
   "execution_count": 26,
   "id": "b416c52d",
   "metadata": {},
   "outputs": [
    {
     "data": {
      "application/vnd.microsoft.datawrangler.viewer.v0+json": {
       "columns": [
        {
         "name": "index",
         "rawType": "object",
         "type": "string"
        },
        {
         "name": "0",
         "rawType": "float64",
         "type": "float"
        }
       ],
       "ref": "4c02f1d1-b96f-428a-b850-4db7a92d281c",
       "rows": [
        [
         "cement",
         "0.33366381803612305"
        ],
        [
         "age",
         "0.299845689408819"
        ],
        [
         "water",
         "0.10919927886050608"
        ],
        [
         "slag",
         "0.08470158162335167"
        ],
        [
         "superplastic",
         "0.06468727594386399"
        ],
        [
         "fineagg",
         "0.05516830107100899"
        ],
        [
         "coarseagg",
         "0.031752679947596896"
        ],
        [
         "ash",
         "0.020981375108730344"
        ]
       ],
       "shape": {
        "columns": 1,
        "rows": 8
       }
      },
      "text/plain": [
       "cement          0.333664\n",
       "age             0.299846\n",
       "water           0.109199\n",
       "slag            0.084702\n",
       "superplastic    0.064687\n",
       "fineagg         0.055168\n",
       "coarseagg       0.031753\n",
       "ash             0.020981\n",
       "dtype: float64"
      ]
     },
     "execution_count": 26,
     "metadata": {},
     "output_type": "execute_result"
    }
   ],
   "source": [
    "feat_importances = pd.Series(model.feature_importances_, index=X_test.columns).sort_values(ascending=False)\n",
    "feat_importances"
   ]
  },
  {
   "cell_type": "code",
   "execution_count": 27,
   "id": "c9ce0d29",
   "metadata": {},
   "outputs": [
    {
     "data": {
      "application/vnd.microsoft.datawrangler.viewer.v0+json": {
       "columns": [
        {
         "name": "index",
         "rawType": "int64",
         "type": "integer"
        },
        {
         "name": "cement",
         "rawType": "float64",
         "type": "float"
        },
        {
         "name": "slag",
         "rawType": "float64",
         "type": "float"
        },
        {
         "name": "ash",
         "rawType": "float64",
         "type": "float"
        },
        {
         "name": "water",
         "rawType": "float64",
         "type": "float"
        },
        {
         "name": "superplastic",
         "rawType": "float64",
         "type": "float"
        },
        {
         "name": "coarseagg",
         "rawType": "float64",
         "type": "float"
        },
        {
         "name": "fineagg",
         "rawType": "float64",
         "type": "float"
        },
        {
         "name": "age",
         "rawType": "int64",
         "type": "integer"
        }
       ],
       "ref": "76a2c624-fabb-450a-bd36-e8495a0907f6",
       "rows": [
        [
         "0",
         "238.0",
         "0.0",
         "0.0",
         "186.0",
         "0.0",
         "1119.0",
         "789.0",
         "7"
        ],
        [
         "1",
         "318.0",
         "0.0",
         "126.0",
         "210.0",
         "6.0",
         "861.0",
         "737.0",
         "28"
        ],
        [
         "2",
         "251.8",
         "0.0",
         "99.9",
         "146.1",
         "12.4",
         "1006.0",
         "899.8",
         "14"
        ],
        [
         "3",
         "297.2",
         "0.0",
         "117.5",
         "174.8",
         "9.5",
         "1022.8",
         "753.5",
         "3"
        ],
        [
         "4",
         "266.0",
         "112.0",
         "87.0",
         "178.0",
         "10.0",
         "910.0",
         "745.0",
         "28"
        ],
        [
         "5",
         "212.6",
         "0.0",
         "100.4",
         "159.4",
         "10.4",
         "1003.8",
         "903.8",
         "14"
        ],
        [
         "6",
         "446.0",
         "24.0",
         "79.0",
         "162.0",
         "10.3",
         "967.0",
         "712.0",
         "28"
        ],
        [
         "7",
         "212.0",
         "0.0",
         "124.8",
         "159.0",
         "7.8",
         "1085.4",
         "799.5",
         "3"
        ],
        [
         "8",
         "310.0",
         "0.0",
         "0.0",
         "192.0",
         "0.0",
         "970.0",
         "850.0",
         "7"
        ],
        [
         "9",
         "190.7",
         "0.0",
         "125.4",
         "162.1",
         "7.8",
         "1090.0",
         "804.0",
         "56"
        ],
        [
         "10",
         "254.0",
         "0.0",
         "0.0",
         "198.0",
         "0.0",
         "968.0",
         "863.0",
         "365"
        ],
        [
         "11",
         "337.9",
         "189.0",
         "0.0",
         "174.9",
         "9.5",
         "944.7",
         "755.8",
         "56"
        ],
        [
         "12",
         "397.0",
         "0.0",
         "0.0",
         "185.7",
         "0.0",
         "1040.6",
         "734.3",
         "7"
        ],
        [
         "13",
         "212.1",
         "0.0",
         "121.6",
         "180.3",
         "5.7",
         "1057.6",
         "779.3",
         "14"
        ],
        [
         "14",
         "173.8",
         "93.4",
         "159.9",
         "172.3",
         "9.7",
         "1007.2",
         "746.6",
         "3"
        ],
        [
         "15",
         "288.0",
         "192.0",
         "0.0",
         "192.0",
         "0.0",
         "932.0",
         "717.8",
         "28"
        ],
        [
         "16",
         "153.0",
         "102.0",
         "0.0",
         "192.0",
         "0.0",
         "888.0",
         "943.1",
         "90"
        ],
        [
         "17",
         "480.0",
         "0.0",
         "0.0",
         "192.0",
         "0.0",
         "936.2",
         "712.2",
         "7"
        ],
        [
         "18",
         "202.0",
         "11.0",
         "141.0",
         "206.0",
         "1.7",
         "942.0",
         "801.0",
         "28"
        ],
        [
         "19",
         "339.0",
         "0.0",
         "0.0",
         "197.0",
         "0.0",
         "968.0",
         "781.0",
         "90"
        ],
        [
         "20",
         "203.5",
         "305.3",
         "0.0",
         "203.5",
         "0.0",
         "963.4",
         "630.0",
         "90"
        ],
        [
         "21",
         "194.7",
         "0.0",
         "100.5",
         "170.2",
         "7.5",
         "998.0",
         "901.8",
         "56"
        ],
        [
         "22",
         "388.6",
         "97.1",
         "0.0",
         "157.9",
         "12.1",
         "852.1",
         "925.7",
         "3"
        ],
        [
         "23",
         "284.0",
         "15.0",
         "141.0",
         "179.0",
         "5.5",
         "842.0",
         "801.0",
         "3"
        ],
        [
         "24",
         "150.0",
         "237.0",
         "0.0",
         "174.0",
         "12.0",
         "1069.0",
         "675.0",
         "28"
        ],
        [
         "25",
         "252.3",
         "0.0",
         "98.8",
         "146.3",
         "14.2",
         "987.8",
         "889.0",
         "3"
        ],
        [
         "26",
         "108.3",
         "162.4",
         "0.0",
         "203.5",
         "0.0",
         "938.2",
         "849.0",
         "28"
        ],
        [
         "27",
         "249.1",
         "0.0",
         "98.8",
         "158.1",
         "12.8",
         "987.8",
         "889.0",
         "28"
        ],
        [
         "28",
         "379.5",
         "151.2",
         "0.0",
         "153.9",
         "15.9",
         "1134.3",
         "605.0",
         "56"
        ],
        [
         "29",
         "359.0",
         "19.0",
         "141.0",
         "154.0",
         "10.9",
         "942.0",
         "801.0",
         "56"
        ],
        [
         "30",
         "162.0",
         "190.1",
         "148.1",
         "178.8",
         "18.8",
         "838.1",
         "741.4",
         "28"
        ],
        [
         "31",
         "212.5",
         "0.0",
         "100.4",
         "159.3",
         "8.7",
         "1007.8",
         "903.6",
         "3"
        ],
        [
         "32",
         "190.3",
         "0.0",
         "125.2",
         "166.6",
         "9.9",
         "1079.0",
         "798.9",
         "14"
        ],
        [
         "33",
         "310.0",
         "0.0",
         "0.0",
         "192.0",
         "0.0",
         "1012.0",
         "830.0",
         "7"
        ],
        [
         "34",
         "332.5",
         "142.5",
         "0.0",
         "228.0",
         "0.0",
         "932.0",
         "594.0",
         "365"
        ],
        [
         "35",
         "218.9",
         "0.0",
         "124.1",
         "158.5",
         "11.3",
         "1078.7",
         "794.9",
         "100"
        ],
        [
         "36",
         "167.0",
         "187.0",
         "195.0",
         "185.0",
         "7.0",
         "898.0",
         "636.0",
         "28"
        ],
        [
         "37",
         "172.4",
         "13.6",
         "172.4",
         "156.8",
         "4.1",
         "1006.3",
         "856.4",
         "14"
        ],
        [
         "38",
         "190.3",
         "0.0",
         "125.2",
         "161.9",
         "9.9",
         "1088.1",
         "802.6",
         "3"
        ],
        [
         "39",
         "133.0",
         "200.0",
         "0.0",
         "192.0",
         "0.0",
         "927.4",
         "839.2",
         "7"
        ],
        [
         "40",
         "167.4",
         "129.9",
         "128.6",
         "175.5",
         "7.8",
         "1006.3",
         "746.6",
         "100"
        ],
        [
         "41",
         "144.8",
         "0.0",
         "133.6",
         "180.8",
         "11.1",
         "979.5",
         "811.5",
         "28"
        ],
        [
         "42",
         "393.0",
         "0.0",
         "0.0",
         "192.0",
         "0.0",
         "940.0",
         "758.0",
         "90"
        ],
        [
         "43",
         "387.0",
         "20.0",
         "94.0",
         "157.0",
         "14.3",
         "938.0",
         "845.0",
         "28"
        ],
        [
         "44",
         "157.0",
         "236.0",
         "0.0",
         "192.0",
         "0.0",
         "935.4",
         "781.2",
         "7"
        ],
        [
         "45",
         "149.0",
         "153.0",
         "194.0",
         "192.0",
         "8.0",
         "935.0",
         "623.0",
         "28"
        ],
        [
         "46",
         "451.0",
         "0.0",
         "0.0",
         "165.0",
         "11.3",
         "1030.0",
         "745.0",
         "28"
        ],
        [
         "47",
         "322.0",
         "149.0",
         "0.0",
         "186.0",
         "8.0",
         "951.0",
         "709.0",
         "28"
        ],
        [
         "48",
         "140.0",
         "164.0",
         "128.0",
         "237.0",
         "6.0",
         "869.0",
         "656.0",
         "28"
        ],
        [
         "49",
         "238.1",
         "0.0",
         "0.0",
         "185.7",
         "0.0",
         "1118.8",
         "789.3",
         "28"
        ]
       ],
       "shape": {
        "columns": 8,
        "rows": 100
       }
      },
      "text/html": [
       "<div>\n",
       "<style scoped>\n",
       "    .dataframe tbody tr th:only-of-type {\n",
       "        vertical-align: middle;\n",
       "    }\n",
       "\n",
       "    .dataframe tbody tr th {\n",
       "        vertical-align: top;\n",
       "    }\n",
       "\n",
       "    .dataframe thead th {\n",
       "        text-align: right;\n",
       "    }\n",
       "</style>\n",
       "<table border=\"1\" class=\"dataframe\">\n",
       "  <thead>\n",
       "    <tr style=\"text-align: right;\">\n",
       "      <th></th>\n",
       "      <th>cement</th>\n",
       "      <th>slag</th>\n",
       "      <th>ash</th>\n",
       "      <th>water</th>\n",
       "      <th>superplastic</th>\n",
       "      <th>coarseagg</th>\n",
       "      <th>fineagg</th>\n",
       "      <th>age</th>\n",
       "    </tr>\n",
       "  </thead>\n",
       "  <tbody>\n",
       "    <tr>\n",
       "      <th>0</th>\n",
       "      <td>238.0</td>\n",
       "      <td>0.0</td>\n",
       "      <td>0.0</td>\n",
       "      <td>186.0</td>\n",
       "      <td>0.0</td>\n",
       "      <td>1119.0</td>\n",
       "      <td>789.0</td>\n",
       "      <td>7</td>\n",
       "    </tr>\n",
       "    <tr>\n",
       "      <th>1</th>\n",
       "      <td>318.0</td>\n",
       "      <td>0.0</td>\n",
       "      <td>126.0</td>\n",
       "      <td>210.0</td>\n",
       "      <td>6.0</td>\n",
       "      <td>861.0</td>\n",
       "      <td>737.0</td>\n",
       "      <td>28</td>\n",
       "    </tr>\n",
       "    <tr>\n",
       "      <th>2</th>\n",
       "      <td>251.8</td>\n",
       "      <td>0.0</td>\n",
       "      <td>99.9</td>\n",
       "      <td>146.1</td>\n",
       "      <td>12.4</td>\n",
       "      <td>1006.0</td>\n",
       "      <td>899.8</td>\n",
       "      <td>14</td>\n",
       "    </tr>\n",
       "    <tr>\n",
       "      <th>3</th>\n",
       "      <td>297.2</td>\n",
       "      <td>0.0</td>\n",
       "      <td>117.5</td>\n",
       "      <td>174.8</td>\n",
       "      <td>9.5</td>\n",
       "      <td>1022.8</td>\n",
       "      <td>753.5</td>\n",
       "      <td>3</td>\n",
       "    </tr>\n",
       "    <tr>\n",
       "      <th>4</th>\n",
       "      <td>266.0</td>\n",
       "      <td>112.0</td>\n",
       "      <td>87.0</td>\n",
       "      <td>178.0</td>\n",
       "      <td>10.0</td>\n",
       "      <td>910.0</td>\n",
       "      <td>745.0</td>\n",
       "      <td>28</td>\n",
       "    </tr>\n",
       "    <tr>\n",
       "      <th>...</th>\n",
       "      <td>...</td>\n",
       "      <td>...</td>\n",
       "      <td>...</td>\n",
       "      <td>...</td>\n",
       "      <td>...</td>\n",
       "      <td>...</td>\n",
       "      <td>...</td>\n",
       "      <td>...</td>\n",
       "    </tr>\n",
       "    <tr>\n",
       "      <th>95</th>\n",
       "      <td>250.0</td>\n",
       "      <td>0.0</td>\n",
       "      <td>0.0</td>\n",
       "      <td>182.0</td>\n",
       "      <td>0.0</td>\n",
       "      <td>1100.0</td>\n",
       "      <td>820.0</td>\n",
       "      <td>28</td>\n",
       "    </tr>\n",
       "    <tr>\n",
       "      <th>96</th>\n",
       "      <td>194.7</td>\n",
       "      <td>0.0</td>\n",
       "      <td>100.5</td>\n",
       "      <td>165.6</td>\n",
       "      <td>7.5</td>\n",
       "      <td>1006.4</td>\n",
       "      <td>905.9</td>\n",
       "      <td>28</td>\n",
       "    </tr>\n",
       "    <tr>\n",
       "      <th>97</th>\n",
       "      <td>160.0</td>\n",
       "      <td>188.0</td>\n",
       "      <td>146.0</td>\n",
       "      <td>203.0</td>\n",
       "      <td>11.0</td>\n",
       "      <td>829.0</td>\n",
       "      <td>710.0</td>\n",
       "      <td>28</td>\n",
       "    </tr>\n",
       "    <tr>\n",
       "      <th>98</th>\n",
       "      <td>277.1</td>\n",
       "      <td>0.0</td>\n",
       "      <td>97.4</td>\n",
       "      <td>160.6</td>\n",
       "      <td>11.8</td>\n",
       "      <td>973.9</td>\n",
       "      <td>875.6</td>\n",
       "      <td>56</td>\n",
       "    </tr>\n",
       "    <tr>\n",
       "      <th>99</th>\n",
       "      <td>382.0</td>\n",
       "      <td>0.0</td>\n",
       "      <td>0.0</td>\n",
       "      <td>185.0</td>\n",
       "      <td>0.0</td>\n",
       "      <td>1047.0</td>\n",
       "      <td>739.0</td>\n",
       "      <td>7</td>\n",
       "    </tr>\n",
       "  </tbody>\n",
       "</table>\n",
       "<p>100 rows × 8 columns</p>\n",
       "</div>"
      ],
      "text/plain": [
       "    cement   slag    ash  water  superplastic  coarseagg  fineagg  age\n",
       "0    238.0    0.0    0.0  186.0           0.0     1119.0    789.0    7\n",
       "1    318.0    0.0  126.0  210.0           6.0      861.0    737.0   28\n",
       "2    251.8    0.0   99.9  146.1          12.4     1006.0    899.8   14\n",
       "3    297.2    0.0  117.5  174.8           9.5     1022.8    753.5    3\n",
       "4    266.0  112.0   87.0  178.0          10.0      910.0    745.0   28\n",
       "..     ...    ...    ...    ...           ...        ...      ...  ...\n",
       "95   250.0    0.0    0.0  182.0           0.0     1100.0    820.0   28\n",
       "96   194.7    0.0  100.5  165.6           7.5     1006.4    905.9   28\n",
       "97   160.0  188.0  146.0  203.0          11.0      829.0    710.0   28\n",
       "98   277.1    0.0   97.4  160.6          11.8      973.9    875.6   56\n",
       "99   382.0    0.0    0.0  185.0           0.0     1047.0    739.0    7\n",
       "\n",
       "[100 rows x 8 columns]"
      ]
     },
     "execution_count": 27,
     "metadata": {},
     "output_type": "execute_result"
    }
   ],
   "source": [
    "X_test"
   ]
  },
  {
   "cell_type": "code",
   "execution_count": 28,
   "id": "a4d41a5d",
   "metadata": {},
   "outputs": [],
   "source": [
    "test = [224.92482, 70.61229, 71.09925, 185.87529, 4.91794, 985.2465, 803.50586, 41.930157]"
   ]
  },
  {
   "cell_type": "code",
   "execution_count": 29,
   "id": "57b54941",
   "metadata": {},
   "outputs": [
    {
     "data": {
      "text/plain": [
       "array([59.7041])"
      ]
     },
     "execution_count": 29,
     "metadata": {},
     "output_type": "execute_result"
    }
   ],
   "source": [
    "model.predict([test])"
   ]
  }
 ],
 "metadata": {
  "kernelspec": {
   "display_name": ".venv",
   "language": "python",
   "name": "python3"
  },
  "language_info": {
   "codemirror_mode": {
    "name": "ipython",
    "version": 3
   },
   "file_extension": ".py",
   "mimetype": "text/x-python",
   "name": "python",
   "nbconvert_exporter": "python",
   "pygments_lexer": "ipython3",
   "version": "3.13.3"
  }
 },
 "nbformat": 4,
 "nbformat_minor": 5
}
