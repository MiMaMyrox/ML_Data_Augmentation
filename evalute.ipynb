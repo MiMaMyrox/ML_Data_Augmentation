{
 "cells": [
  {
   "cell_type": "code",
   "execution_count": null,
   "id": "8c3e8d6d",
   "metadata": {},
   "outputs": [],
   "source": [
    "import pandas as pd\n",
    "import matplotlib.pyplot as plt\n",
    "import numpy as np\n",
    "import time\n",
    "import os\n",
    "import re\n",
    "\n",
    "from sklearn.model_selection import train_test_split\n",
    "from sklearn.ensemble import RandomForestRegressor\n",
    "from sklearn.metrics import mean_squared_error, r2_score\n",
    "from sklearn.preprocessing import MinMaxScaler\n",
    "from tqdm import tqdm\n",
    "\n",
    "DATA_PATH = \"./data/\""
   ]
  },
  {
   "cell_type": "code",
   "execution_count": 45,
   "id": "f708e7a2",
   "metadata": {},
   "outputs": [
    {
     "name": "stdout",
     "output_type": "stream",
     "text": [
      "Reading 'train copy'\n",
      "Reading 'train'\n"
     ]
    }
   ],
   "source": [
    "df_test = pd.read_csv(f'{DATA_PATH}test.csv')\n",
    "X_test = df_test.drop(columns=['strength'])\n",
    "y_test = df_test['strength']\n",
    "\n",
    "\n",
    "def prettify_filename(file_name):\n",
    "    file_name = re.sub(r'[-_]+', ' ', file_name)\n",
    "    pretty = ' '.join(word.capitalize() for word in file_name.strip().split())\n",
    "    \n",
    "    return pretty\n",
    "\n",
    "files = [f for f in os.listdir(DATA_PATH) if os.path.isfile(os.path.join(DATA_PATH, f)) if not f.__contains__(\"test\")]\n",
    "\n",
    "data_sets = {}\n",
    "\n",
    "for file in files:\n",
    "    file_name, file_ending = file.rsplit(\".\", 1)\n",
    "    print(f\"Reading '{file_name}'\")\n",
    "    file_path = DATA_PATH + file\n",
    "\n",
    "    match file_ending:\n",
    "        case \"csv\":\n",
    "            df_train = pd.read_csv(file_path)\n",
    "        case \"parquet\":\n",
    "            df_train = pd.read_parquet(file_path)\n",
    "        case _:\n",
    "            raise NameError(\"File does not have a valid format\")\n",
    "\n",
    "    if set(df_train.columns) != set(df_test.columns):\n",
    "        diffset = set(df_test.columns).difference(set(df_train.columns))\n",
    "        raise AttributeError(f\"faulty column{'s' if len(diffset) > 1 else ''}: {diffset}\")\n",
    "    \n",
    "\n",
    "    X_train = df_train.drop(columns=['strength'])\n",
    "    y_train = df_train['strength']\n",
    "    del df_train\n",
    "    data_sets[file_name] = {\"X_train\": X_train, \"y_train\": y_train, \"name\": prettify_filename(file_name)}\n"
   ]
  },
  {
   "cell_type": "code",
   "execution_count": null,
   "id": "5b564387",
   "metadata": {},
   "outputs": [
    {
     "name": "stderr",
     "output_type": "stream",
     "text": [
      "Processing Train     : 100%|██████████| 2/2 [00:02<00:00,  1.00s/it]\n"
     ]
    }
   ],
   "source": [
    "def train_model(X_train, y_train):\n",
    "    pass\n",
    "\n",
    "max_name_len = max([len(data['name']) for data in data_sets.values()])\n",
    "pbar = tqdm(data_sets.items())\n",
    "\n",
    "for _, data in pbar:\n",
    "    pbar.set_description(\"Processing %s\" % data['name'].ljust(max_name_len))\n",
    "    time.sleep(1)  # remove later\n",
    "    model = train_model(data['X_train'], data['y_train'])\n"
   ]
  }
 ],
 "metadata": {
  "kernelspec": {
   "display_name": ".venv",
   "language": "python",
   "name": "python3"
  },
  "language_info": {
   "codemirror_mode": {
    "name": "ipython",
    "version": 3
   },
   "file_extension": ".py",
   "mimetype": "text/x-python",
   "name": "python",
   "nbconvert_exporter": "python",
   "pygments_lexer": "ipython3",
   "version": "3.13.5"
  }
 },
 "nbformat": 4,
 "nbformat_minor": 5
}
